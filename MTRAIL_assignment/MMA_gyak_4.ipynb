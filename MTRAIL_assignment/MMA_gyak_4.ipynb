{
  "nbformat": 4,
  "nbformat_minor": 0,
  "metadata": {
    "colab": {
      "name": "MMA_gyak_4.ipynb",
      "version": "0.3.2",
      "provenance": [],
      "collapsed_sections": []
    },
    "kernelspec": {
      "name": "python3",
      "display_name": "Python 3"
    }
  },
  "cells": [
    {
      "metadata": {
        "id": "ds0DeIuIOTP6",
        "colab_type": "text"
      },
      "cell_type": "markdown",
      "source": [
        "#MTRAIL creator script\n",
        "\n",
        "In This assignment I'm going to create mtrails for the given graphs, which are represents networks. Mtrails are connected routes in the graphs and we can detect 1 bit error in the gven link with them.\n",
        "\n",
        "Each mtrail is assigned to a link and all unique. The goals of this script are:\n",
        "\n",
        "* reading the input file, which contains the graph's node number, the neighbour matrix and the incidency matrix.\n",
        "\n",
        "* generate random  unique mtrails\n",
        "\n",
        "* check if they are valid mtrails\n",
        "\n",
        "* recreate few mtrails to make it valid\n",
        "\n",
        "* and finally write it to the output file"
      ]
    },
    {
      "metadata": {
        "id": "9tmgMGdjJD6H",
        "colab_type": "code",
        "colab": {}
      },
      "cell_type": "code",
      "source": [
        "from sys import version_info, stderr\n",
        "if version_info <= (3,4,0):\n",
        "    stderr.write(\"In order to run this script, you need Python 3.4.0 or above!\")\n",
        "    exit()\n",
        "\n",
        "try:\n",
        "    import numpy as np\n",
        "except ImportError:\n",
        "    print(\"You need to install numpy for this script!\")\n",
        "    exit()\n",
        "\n",
        "from math import log, ceil\n",
        "import collections"
      ],
      "execution_count": 0,
      "outputs": []
    },
    {
      "metadata": {
        "id": "7hresVwaIyhh",
        "colab_type": "code",
        "colab": {}
      },
      "cell_type": "code",
      "source": [
        "#declaring functions\n",
        "def is_in_that(list_of_lists, test_list):\n",
        "    \"\"\"\n",
        "    \n",
        "    Checks if a row vector is in the matrix.\n",
        "    INPUT:\n",
        "        * list_of_lists: numpy 2 dimensional array\n",
        "        * test_list: numpy 1 dimensional array\n",
        "    OUTPUT:\n",
        "        * list of indices. It shows which row(s) contains the row vector\n",
        "        * if there is no instances of the row vector it returns a list which contaiuns -1\n",
        "        \n",
        "    list_of_list dimension is must be (MxN) and test_list dimension must be (1XN)\n",
        "    It does not modify the input!\n",
        "    \"\"\"\n",
        "    inds = [] # contains positive indices\n",
        "    ind = 0\n",
        "    \n",
        "    for current_list in list_of_lists:\n",
        "        # if the current row is equal to the parameter row vector\n",
        "        if False not in (test_list == current_list):\n",
        "          inds.append(ind)\n",
        "        ind += 1\n",
        "    \n",
        "    if len(inds) == 0:\n",
        "        return [-1]\n",
        "    \n",
        "    return inds\n",
        "  \n",
        "\n",
        "def generate_random_bits(b_amount, b_lenght):\n",
        "    \"\"\"\n",
        "    \n",
        "    Generates a random bit matrix.\n",
        "    \n",
        "    INPUT:\n",
        "        * b_amount: number of rows\n",
        "        * b_lenght: number of columns\n",
        "    OUTPUT:\n",
        "        * (b_amount x b_lenght) sized matrix of bits\n",
        "        \n",
        "    The output matrix does not contains a zero vector!\n",
        "    It does not modify the input!\n",
        "    \n",
        "    \"\"\"\n",
        "    \n",
        "    bits = np.random.randint(0, 2, size=(b_amount, b_lenght))    \n",
        "    \n",
        "    inds = is_in_that(bits, np.zeros(b_lenght)) # all zero vector(s) must be eliminated\n",
        "    \n",
        "    if inds[0] == -1:\n",
        "        return bits\n",
        "    else:\n",
        "        for i in inds:\n",
        "            bits[i] = np.bitwise_xor(bits[-1], bits[0])\n",
        "        return bits\n",
        "      \n",
        "  \n",
        "def where_is_not_unique(bits):\n",
        "    \"\"\"\n",
        "    \n",
        "    Shows which row vectors has a duplicate in the matrix.\n",
        "    \n",
        "    INPUT:\n",
        "        * bits: matrix\n",
        "    OUTPUT:\n",
        "        * list of indices. It shows which row has multiple occurences.\n",
        "        * [-1] if every row is unique\n",
        "    \n",
        "    \"\"\"\n",
        "    result = []\n",
        "    \n",
        "    unique_bits = np.unique(bits, axis=0)\n",
        "    if bits.shape == unique_bits.shape:\n",
        "        return [-1]\n",
        "    else:\n",
        "        for unique_bit_seq in unique_bits:\n",
        "            result.append(is_in_that(bits, unique_bit_seq))\n",
        "        return result\n",
        "            \n",
        "  \n",
        "def set_unique(bits):\n",
        "    \"\"\"\n",
        "    \n",
        "    Create a bit matrix with unique rows.\n",
        "    \n",
        "    INPUT:\n",
        "        * bits: bit matrix\n",
        "    \n",
        "    OUTPUT:\n",
        "        * copy of bits with all unique rows.\n",
        "    \n",
        "    \"\"\"\n",
        "    are_all_unique = False\n",
        "    copy_of_bits = np.copy(bits)\n",
        "    \n",
        "    while (not are_all_unique):\n",
        "        result = where_is_not_unique(copy_of_bits)\n",
        "        if result[0] == -1:\n",
        "            are_all_unique = True\n",
        "        else:\n",
        "            for res in result:\n",
        "                if len(res) > 1:\n",
        "                    for i in range(0, len(res)-1):\n",
        "                        copy_of_bits[res[i]] = generate_random_bits(1, bits.shape[1])\n",
        "            \n",
        "          \n",
        "        if is_in_that(copy_of_bits, [0]*copy_of_bits.shape[1])[0] != -1:\n",
        "            are_all_unique = False\n",
        "            inds = is_in_that(copy_of_bits, [0]*copy_of_bits.shape[1])\n",
        "            for ind in inds:\n",
        "                copy_of_bits[ind] = generate_random_bits(1, copy_of_bits.shape[1])\n",
        "                \n",
        "    return copy_of_bits # all unique\n",
        "  \n",
        "def print_separator(sep_char=\"-\"):\n",
        "    \"\"\"\n",
        "    Decoration for printig on the console.\n",
        "    \n",
        "    INPUT:\n",
        "        * sep_char: Character, which will occur 2x80 times\n",
        "        \n",
        "    OUTPUT:\n",
        "        * on the screen 2x80 sep_char\n",
        "    \n",
        "    \"\"\"\n",
        "    s = \"\"\n",
        "    for i in range(80):\n",
        "        s += sep_char\n",
        "    print(\"{}\\n{}\".format(s, s))\n",
        "    \n",
        "def number_of_mtrails(mtrails, inc_mat):\n",
        "    number_of_mtrail = 0\n",
        "    for i in range(len(mtrails[0])):\n",
        "        M_=np.array([x[i] for x in mtrails])\n",
        "        B_=inc_mat[:,np.where(M_==1)[0]]\n",
        "        B_=np.array([x for x in B_ if (x != [0]*len(x)).any()])\n",
        "        r=np.linalg.matrix_rank(B_)\n",
        "        number_of_mtrail += len(B_) - r\n",
        "        \n",
        "    return number_of_mtrail\n",
        "  \n",
        "def get_links(nodes, inc_mat):\n",
        "    \"\"\"\n",
        "    \n",
        "    Create a dictionary about the edges. Contains the edge number from 0 to e-1, \n",
        "    where e is the number of the edges. And a list with 2 elements. It contains\n",
        "    the nodes where the edge is.\n",
        "    \n",
        "    INPUT:\n",
        "        * nodes: list of the nodes\n",
        "        * inc_mat: incidency matrix\n",
        "    \n",
        "    OUTPUT:\n",
        "        * dictionary with edges and the nodes of the edges\n",
        "    \n",
        "    It does not modify the input!\n",
        "    \n",
        "    \"\"\"\n",
        "    links = dict()\n",
        "    \n",
        "    for i in range(inc_mat.shape[1]):\n",
        "        links[i] = []\n",
        "    \n",
        "    for edge in range(inc_mat.shape[1]):\n",
        "        for node in range(nodes.shape[0]):            \n",
        "            if (inc_mat[node][edge] != 0) and (links[edge] == []):\n",
        "                links[edge].append(nodes[node])\n",
        "                continue\n",
        "            \n",
        "            if (inc_mat[node][edge] != 0) and (len(links[edge]) < 2) and (len(links[edge]) >= 1):\n",
        "                links[edge].append(nodes[node])\n",
        "                break\n",
        "    \n",
        "    return links"
      ],
      "execution_count": 0,
      "outputs": []
    },
    {
      "metadata": {
        "id": "d9wVeew48s8-",
        "colab_type": "text"
      },
      "cell_type": "markdown",
      "source": [
        "First, I read the file. I created a list of file names. After chosing the file the code reads the number of nodes and matrices. The file contains coordinates about the nodes. For this script those coordinates are useless."
      ]
    },
    {
      "metadata": {
        "id": "poHIbwx5Mpq9",
        "colab_type": "code",
        "colab": {
          "base_uri": "https://localhost:8080/",
          "height": 476
        },
        "outputId": "1d314b60-5f08-4550-ea57-01c3cdff5268"
      },
      "cell_type": "code",
      "source": [
        "matrices_files = [\"G8\", \"G52\", \"G202\", \"GER.txt\", \"EU\", \"IT\"]\n",
        "file_name = matrices_files[0]\n",
        "\n",
        "print(\"Reading graph...\")\n",
        "print_separator()\n",
        "f = open(file_name, \"r\")\n",
        "\n",
        "size = int(f.readline())\n",
        "\n",
        "print(\"Number of nodes = {}\".format(size))\n",
        "\n",
        "neigh_mat = np.zeros((size, size), dtype=int)\n",
        "line = \"\"\n",
        "\n",
        "# read the neighbour matrix\n",
        "for i in range(size):\n",
        "    line = list(f.readline().replace(\" \", \"\").replace(\"\\n\", \"\"))\n",
        "\n",
        "    for j in range(len(line)):\n",
        "        neigh_mat[i][j] = int(line[j])\n",
        "        \n",
        "print(\"\\nNeighbour matrix:\\n{}\".format(neigh_mat))\n",
        "\n",
        "\n",
        "# to get the incidency matrix the data need a little transformation\n",
        "lines =  []\n",
        "for i in range(size):\n",
        "    line = f.readline().replace(\" \", \"\").replace(\"\\n\", \"\")\n",
        "    line = line.replace(\"-1\", \"x\")\n",
        "    lines.append(line)\n",
        "\n",
        "f.close()\n",
        "\n",
        "print(\"\\n\\nNumber of edges = {}\\n\".format(len(lines[0])))\n",
        "incidency_mat = np.zeros((size, len(lines[0])), dtype=int)\n",
        "ind_n, ind_m = 0, 0\n",
        "\n",
        "for line in lines:\n",
        "    for k in range(0, len(line)):\n",
        "        if line[k] == \"x\":\n",
        "            incidency_mat[ind_n][ind_m] = -1\n",
        "        else:\n",
        "            incidency_mat[ind_n][ind_m] = int(line[k])\n",
        "        ind_m += 1\n",
        "    ind_n += 1\n",
        "    ind_m = 0\n",
        "\n",
        "print(\"Incidency matrix\\n{}\".format(incidency_mat))\n"
      ],
      "execution_count": 4,
      "outputs": [
        {
          "output_type": "stream",
          "text": [
            "Reading graph...\n",
            "--------------------------------------------------------------------------------\n",
            "--------------------------------------------------------------------------------\n",
            "Number of nodes = 8\n",
            "\n",
            "Neighbour matrix:\n",
            "[[0 1 1 0 0 0 0 0]\n",
            " [1 0 1 1 1 0 0 0]\n",
            " [1 1 0 0 1 0 0 0]\n",
            " [0 1 0 0 0 1 1 0]\n",
            " [0 1 1 0 0 1 0 0]\n",
            " [0 0 0 1 1 0 0 1]\n",
            " [0 0 0 1 0 0 0 1]\n",
            " [0 0 0 0 0 1 1 0]]\n",
            "\n",
            "\n",
            "Number of edges = 11\n",
            "\n",
            "Incidency matrix\n",
            "[[ 1  1  0  0  0  0  0  0  0  0  0]\n",
            " [-1  0  1  1  1  0  0  0  0  0  0]\n",
            " [ 0 -1 -1  0  0  1  0  0  0  0  0]\n",
            " [ 0  0  0 -1  0  0  1  1  0  0  0]\n",
            " [ 0  0  0  0 -1 -1  0  0  1  0  0]\n",
            " [ 0  0  0  0  0  0 -1  0 -1  1  0]\n",
            " [ 0  0  0  0  0  0  0 -1  0  0  1]\n",
            " [ 0  0  0  0  0  0  0  0  0 -1 -1]]\n"
          ],
          "name": "stdout"
        }
      ]
    },
    {
      "metadata": {
        "id": "YjUcf59m-YHU",
        "colab_type": "text"
      },
      "cell_type": "markdown",
      "source": [
        "After reading the graph data, the script calculates the number of mtrails and creating as many as many edge the graph has. It's all random, and it's more likely not correct. However every mtrail vector are unique!"
      ]
    },
    {
      "metadata": {
        "id": "Ge6fQRHGbWab",
        "colab_type": "code",
        "colab": {
          "base_uri": "https://localhost:8080/",
          "height": 544
        },
        "outputId": "981a2098-f64f-4630-aadb-eae667de6764"
      },
      "cell_type": "code",
      "source": [
        "print_separator()\n",
        "print(\"Calculating the number of mtrails and creating them...\")\n",
        "\n",
        "n_edges = np.count_nonzero(incidency_mat == 1) # calculate it in a different way as well\n",
        "bit_count = ceil(log(n_edges + 1, 2))\n",
        "  \n",
        "mtrails = generate_random_bits(n_edges, bit_count)\n",
        "print(\"{}\\n\\n\".format(mtrails))\n",
        "sh = mtrails.shape\n",
        "\n",
        "mtrails = set_unique(mtrails)\n",
        "print(mtrails)\n",
        "\n",
        "print(\"\\nGenerated: {0}, Unique: {1}\\n\".format(sh, mtrails.shape))\n",
        "print(\"For {0} edges we need {1} bits long mtrails therefore {1} mtrails.\".format(n_edges, bit_count))"
      ],
      "execution_count": 5,
      "outputs": [
        {
          "output_type": "stream",
          "text": [
            "--------------------------------------------------------------------------------\n",
            "--------------------------------------------------------------------------------\n",
            "Calculating the number of mtrails and creating them...\n",
            "[[0 0 0 1]\n",
            " [0 1 0 1]\n",
            " [0 0 0 0]\n",
            " [1 1 0 0]\n",
            " [0 0 0 0]\n",
            " [1 0 1 0]\n",
            " [1 1 0 0]\n",
            " [1 1 1 0]\n",
            " [1 1 0 0]\n",
            " [1 1 0 1]\n",
            " [0 0 0 1]]\n",
            "\n",
            "\n",
            "[[1 1 1 1]\n",
            " [0 1 0 1]\n",
            " [0 0 1 0]\n",
            " [1 0 0 0]\n",
            " [1 0 0 1]\n",
            " [1 0 1 0]\n",
            " [0 1 0 0]\n",
            " [1 1 1 0]\n",
            " [1 1 0 0]\n",
            " [1 1 0 1]\n",
            " [0 0 0 1]]\n",
            "\n",
            "Generated: (11, 4), Unique: (11, 4)\n",
            "\n",
            "For 11 edges we need 4 bits long mtrails therefore 4 mtrails.\n"
          ],
          "name": "stdout"
        }
      ]
    },
    {
      "metadata": {
        "id": "x9OUZqKOikRh",
        "colab_type": "code",
        "colab": {
          "base_uri": "https://localhost:8080/",
          "height": 51
        },
        "outputId": "1ae3b2bd-f4bb-4c21-8975-5611a22e12e0"
      },
      "cell_type": "code",
      "source": [
        "number_of_mtrail = number_of_mtrails(mtrails, incidency_mat)\n",
        "\n",
        "print(\"Current number of mtrails = {}\".format(number_of_mtrail))\n",
        "print(\"Optimal number of mtrails = {}\".format(bit_count))"
      ],
      "execution_count": 6,
      "outputs": [
        {
          "output_type": "stream",
          "text": [
            "Current number of mtrails = 7\n",
            "Optimal number of mtrails = 4\n"
          ],
          "name": "stdout"
        }
      ]
    },
    {
      "metadata": {
        "id": "IM6IQ8G4-8kr",
        "colab_type": "text"
      },
      "cell_type": "markdown",
      "source": [
        "With the unique mtrails the script gives an mtrail to an edge.\n",
        "\n",
        "Script creates a dictionary which has every edge with an index."
      ]
    },
    {
      "metadata": {
        "id": "3zBaTwjOdwSS",
        "colab_type": "code",
        "colab": {
          "base_uri": "https://localhost:8080/",
          "height": 289
        },
        "outputId": "a384c611-c32e-4ffe-964b-c6f69e3e654c"
      },
      "cell_type": "code",
      "source": [
        "print_separator()\n",
        "print(\"Allocating mtrails to the edges...\")\n",
        "\n",
        "nodes = np.arange(0, size, 1)\n",
        "edges = get_links(nodes, incidency_mat)\n",
        "\n",
        "print(\"\\nEdges with random mtrails:\")\n",
        "\n",
        "for edge in range(n_edges):\n",
        "    print(\"{}:   {}  -->  {}\".format(edge, edges[edge], mtrails[edge]))\n"
      ],
      "execution_count": 7,
      "outputs": [
        {
          "output_type": "stream",
          "text": [
            "--------------------------------------------------------------------------------\n",
            "--------------------------------------------------------------------------------\n",
            "Allocating mtrails to the edges...\n",
            "\n",
            "Edges with random mtrails:\n",
            "0:   [0, 1]  -->  [1 1 1 1]\n",
            "1:   [0, 2]  -->  [0 1 0 1]\n",
            "2:   [1, 2]  -->  [0 0 1 0]\n",
            "3:   [1, 3]  -->  [1 0 0 0]\n",
            "4:   [1, 4]  -->  [1 0 0 1]\n",
            "5:   [2, 4]  -->  [1 0 1 0]\n",
            "6:   [3, 5]  -->  [0 1 0 0]\n",
            "7:   [3, 6]  -->  [1 1 1 0]\n",
            "8:   [4, 5]  -->  [1 1 0 0]\n",
            "9:   [5, 7]  -->  [1 1 0 1]\n",
            "10:   [6, 7]  -->  [0 0 0 1]\n"
          ],
          "name": "stdout"
        }
      ]
    },
    {
      "metadata": {
        "id": "ZP3Hf3xovIuS",
        "colab_type": "code",
        "colab": {
          "base_uri": "https://localhost:8080/",
          "height": 292
        },
        "outputId": "503c9fa7-c021-4988-d0df-a01d77de17c0"
      },
      "cell_type": "code",
      "source": [
        "def get_mtrail_edges(mtrails):\n",
        "    mtrail_routes = dict()\n",
        "    \n",
        "    for bit_pos in range(mtrails.shape[1]):\n",
        "        mtrail_routes[bit_pos] = []\n",
        "        for mtrail_ind in range(mtrails.shape[0]):\n",
        "            if mtrails[mtrail_ind][bit_pos] == 1:\n",
        "                mtrail_routes[bit_pos].append(mtrail_ind)\n",
        "    \n",
        "    return mtrail_routes\n",
        "  \n",
        "\n",
        "test_route = np.array([[0,1,1], [1,0,1], [0,1,0]]) # it's an mtrail for a different graph\n",
        "test_route1 = np.array([[0,1,1], [0,1,0]]) # mtrail\n",
        "test_route2 = np.array([[0,0,1,0], [0,0,1,1], [0,1,1,1], [0,1,1,0]]) # not mtrail\n",
        "\n",
        "routes = get_mtrail_edges(mtrails)\n",
        "print(\"The random connected mtrails inices:\\n{0}\\n\".format(routes))\n",
        "print(edges)\n",
        "print(mtrails)"
      ],
      "execution_count": 35,
      "outputs": [
        {
          "output_type": "stream",
          "text": [
            "The random connected mtrails inices:\n",
            "{0: [0, 3, 4, 5, 7, 8, 9], 1: [0, 1, 6, 7, 8, 9], 2: [0, 2, 5, 7], 3: [0, 1, 4, 9, 10]}\n",
            "\n",
            "{0: [0, 1], 1: [0, 2], 2: [1, 2], 3: [1, 3], 4: [1, 4], 5: [2, 4], 6: [3, 5], 7: [3, 6], 8: [4, 5], 9: [5, 7], 10: [6, 7]}\n",
            "[[1 1 1 1]\n",
            " [0 1 0 1]\n",
            " [0 0 1 0]\n",
            " [1 0 0 0]\n",
            " [1 0 0 1]\n",
            " [1 0 1 0]\n",
            " [0 1 0 0]\n",
            " [1 1 1 0]\n",
            " [1 1 0 0]\n",
            " [1 1 0 1]\n",
            " [0 0 0 1]]\n"
          ],
          "name": "stdout"
        }
      ]
    },
    {
      "metadata": {
        "id": "XRmaLBaPvYqc",
        "colab_type": "code",
        "colab": {
          "base_uri": "https://localhost:8080/",
          "height": 714
        },
        "outputId": "7b8f35cb-7782-4cc3-c7eb-1366e75b36d1"
      },
      "cell_type": "code",
      "source": [
        "def make_connected(n_bits, edges, routes, mtrails):\n",
        "    for mtrail in range(n_bits): # 0..4\n",
        "        \n",
        "        tmp_list = []\n",
        "        tmp_set = set()\n",
        "        node_cntr = []\n",
        "        for mtrail_index in routes[mtrail]: # get connected trails indices\n",
        "            pass\n",
        "        print_separator()\n",
        "    \n",
        "\"\"\"\n",
        "for i in routes[0]:\n",
        "    print(edges[i])\n",
        "print_separator()\n",
        "for i in routes[1]:\n",
        "    print(edges[i])\n",
        "\"\"\"   \n",
        " \n",
        "make_connected(bit_count, edges, routes, mtrails)\n",
        "\n",
        "number_of_mtrails(mtrails, incidency_mat)"
      ],
      "execution_count": 63,
      "outputs": [
        {
          "output_type": "stream",
          "text": [
            "{0, 1, 2, 3, 4, 5, 6, 7}\n",
            "[0, 1, 1, 3, 1, 4, 2, 4, 3, 6, 4, 5, 5, 7]\n",
            "1: 0\n",
            "3: 1\n",
            "1: 2\n",
            "3: 4\n",
            "1: 6\n",
            "1: 7\n",
            "[]\n",
            "--------------------------------------------------------------------------------\n",
            "--------------------------------------------------------------------------------\n",
            "{0, 1, 2, 3, 4, 5, 6, 7}\n",
            "[0, 1, 0, 2, 3, 5, 3, 6, 4, 5, 5, 7]\n",
            "1: 1\n",
            "1: 2\n",
            "1: 4\n",
            "3: 5\n",
            "1: 6\n",
            "1: 7\n",
            "[]\n",
            "--------------------------------------------------------------------------------\n",
            "--------------------------------------------------------------------------------\n",
            "{0, 1, 2, 3, 4, 6}\n",
            "[0, 1, 1, 2, 2, 4, 3, 6]\n",
            "1: 0\n",
            "1: 3\n",
            "1: 4\n",
            "1: 6\n",
            "[]\n",
            "--------------------------------------------------------------------------------\n",
            "--------------------------------------------------------------------------------\n",
            "{0, 1, 2, 4, 5, 6, 7}\n",
            "[0, 1, 0, 2, 1, 4, 5, 7, 6, 7]\n",
            "1: 2\n",
            "1: 4\n",
            "1: 5\n",
            "1: 6\n",
            "[]\n",
            "--------------------------------------------------------------------------------\n",
            "--------------------------------------------------------------------------------\n"
          ],
          "name": "stdout"
        },
        {
          "output_type": "execute_result",
          "data": {
            "text/plain": [
              "7"
            ]
          },
          "metadata": {
            "tags": []
          },
          "execution_count": 63
        }
      ]
    },
    {
      "metadata": {
        "id": "cYjkUOCRnXGS",
        "colab_type": "code",
        "colab": {
          "base_uri": "https://localhost:8080/",
          "height": 34
        },
        "outputId": "8a713bf6-df53-46b7-e862-2395b7ba09a2"
      },
      "cell_type": "code",
      "source": [
        "tmp_counter = np.array([], dtype=int)\n",
        "print(tmp_counter)\n",
        "#tmp_counter = np.delete(tmp_counter,0,0)\n",
        "#print(tmp_counter)"
      ],
      "execution_count": 47,
      "outputs": [
        {
          "output_type": "stream",
          "text": [
            "[]\n"
          ],
          "name": "stdout"
        }
      ]
    },
    {
      "metadata": {
        "id": "U4ZisqzLL84S",
        "colab_type": "code",
        "colab": {}
      },
      "cell_type": "code",
      "source": [
        "f = open(\"{0}_{1}.txt\".format(file_name, \"mtrails\"), \"w\")\n",
        "\n",
        "f.write(\"TALXCE\\n\")\n",
        "for i in range(mtrails.shape[0]):\n",
        "    for j in range(mtrails.shape[1]):\n",
        "        f.write(\"{0} \".format(str(mtrails[i][j])))\n",
        "    f.write(\"\\n\")\n",
        "\n",
        "f.close()"
      ],
      "execution_count": 0,
      "outputs": []
    }
  ]
}